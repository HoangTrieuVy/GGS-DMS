{
 "cells": [
  {
   "cell_type": "code",
   "execution_count": 43,
   "id": "3f5b2bfe",
   "metadata": {},
   "outputs": [
    {
     "name": "stdout",
     "output_type": "stream",
     "text": [
      "The autoreload extension is already loaded. To reload it, use:\n",
      "  %reload_ext autoreload\n"
     ]
    }
   ],
   "source": [
    "import sys\n",
    "sys.path.insert(0, '../../python_dms/lib/')\n",
    "from tools_dms import *\n",
    "from dms import *\n",
    "from PIL import Image\n",
    "import scipy.io as sio\n",
    "import matplotlib.pyplot as plt\n",
    "import scipy.io\n",
    "import time \n",
    "%load_ext autoreload\n",
    "%autoreload 2"
   ]
  },
  {
   "cell_type": "code",
   "execution_count": null,
   "id": "a1fe732f",
   "metadata": {},
   "outputs": [],
   "source": []
  },
  {
   "cell_type": "code",
   "execution_count": 44,
   "id": "073fd160",
   "metadata": {},
   "outputs": [],
   "source": [
    "import os\n",
    "def SegtoCon_DMS(seg):\n",
    "    rows,cols = np.shape(seg)\n",
    "    cont= np.zeros_like(seg)\n",
    "    y=  np.zeros((rows,cols,2))\n",
    "    y[:, :, 0] = np.concatenate((seg[:, 1:] - seg[:, 0:-1], np.zeros((rows, 1))),axis=1) / 2.\n",
    "    y[:, :, 1] = np.concatenate((seg[1:, :] - seg[0:-1, :], np.zeros((1, cols))),axis=0) / 2.\n",
    "    \n",
    "    for i in range(rows):\n",
    "        for j in range(cols):\n",
    "            if np.abs(y[i,j,0]) > 0 or np.abs(y[i,j,1])>0:\n",
    "                cont[i,j]=1\n",
    "#                 im[i,j,:]=0\n",
    "    return cont\n",
    "\n",
    "def SegtoCon_DMS(seg):\n",
    "    rows,cols = np.shape(seg)\n",
    "    cont= np.zeros_like(seg)\n",
    "    y=  np.zeros((rows,cols,2))\n",
    "    y[:, :, 0] = np.concatenate((seg[:, 1:] - seg[:, 0:-1], np.zeros((rows, 1))),axis=1) / 2.\n",
    "    y[:, :, 1] = np.concatenate((seg[1:, :] - seg[0:-1, :], np.zeros((1, cols))),axis=0) / 2.\n",
    "    \n",
    "    for i in range(rows):\n",
    "        for j in range(cols):\n",
    "            if np.abs(y[i,j,0]) > 0 or np.abs(y[i,j,1])>0:\n",
    "                cont[i,j]=1\n",
    "#                 im[i,j,:]=0\n",
    "    return cont"
   ]
  },
  {
   "cell_type": "code",
   "execution_count": 47,
   "id": "7fec4703",
   "metadata": {},
   "outputs": [
    {
     "name": "stdout",
     "output_type": "stream",
     "text": [
      "(321, 481)\n",
      "(321, 481, 3)\n",
      "Objective: Jaccard\n",
      "Color image\n",
      "Image is already in float [0,1] \n",
      "\n"
     ]
    },
    {
     "name": "stderr",
     "output_type": "stream",
     "text": [
      "100%|███████████████████████████████████████████████████████████████| 10/10 [00:01<00:00,  8.51it/s]\n"
     ]
    },
    {
     "ename": "ValueError",
     "evalue": "Shape mismatch: im1 and im2 must have the same shape.",
     "output_type": "error",
     "traceback": [
      "\u001b[0;31m---------------------------------------------------------------------------\u001b[0m",
      "\u001b[0;31mValueError\u001b[0m                                Traceback (most recent call last)",
      "Input \u001b[0;32mIn [47]\u001b[0m, in \u001b[0;36m<cell line: 5>\u001b[0;34m()\u001b[0m\n\u001b[1;32m     25\u001b[0m         \u001b[38;5;28mprint\u001b[39m(z\u001b[38;5;241m.\u001b[39mshape)\n\u001b[1;32m     26\u001b[0m \u001b[38;5;66;03m#         plt.figure()\u001b[39;00m\n\u001b[1;32m     27\u001b[0m \u001b[38;5;66;03m#         plt.imshow(x)\u001b[39;00m\n\u001b[1;32m     28\u001b[0m \u001b[38;5;66;03m#         plt.show()\u001b[39;00m\n\u001b[0;32m   (...)\u001b[0m\n\u001b[1;32m     36\u001b[0m \u001b[38;5;66;03m#         plt.hist(cont.flatten())\u001b[39;00m\n\u001b[1;32m     37\u001b[0m \u001b[38;5;66;03m#         plt.show()\u001b[39;00m\n\u001b[0;32m---> 38\u001b[0m         tab_Jaccard_out,tab_coord_max_Jaccard_out,tab_Jaccard_max,out1,out0\u001b[38;5;241m=\u001b[39m \u001b[43mgolden_section_map\u001b[49m\u001b[43m(\u001b[49m\u001b[43mz\u001b[49m\u001b[43m,\u001b[49m\u001b[43mx\u001b[49m\u001b[43m,\u001b[49m\u001b[43mcont\u001b[49m\u001b[43m,\u001b[49m\u001b[43mbmax\u001b[49m\u001b[38;5;241;43m=\u001b[39;49m\u001b[38;5;241;43m5\u001b[39;49m\u001b[43m,\u001b[49m\u001b[43mbmin\u001b[49m\u001b[38;5;241;43m=\u001b[39;49m\u001b[38;5;241;43m-\u001b[39;49m\u001b[38;5;241;43m5\u001b[39;49m\u001b[43m,\u001b[49m\u001b[43mlmax\u001b[49m\u001b[38;5;241;43m=\u001b[39;49m\u001b[38;5;241;43m3\u001b[39;49m\u001b[43m,\u001b[49m\u001b[43mlmin\u001b[49m\u001b[38;5;241;43m=\u001b[39;49m\u001b[38;5;241;43m-\u001b[39;49m\u001b[38;5;241;43m6\u001b[39;49m\u001b[43m,\u001b[49m\u001b[43mscale_type\u001b[49m\u001b[38;5;241;43m=\u001b[39;49m\u001b[38;5;124;43m'\u001b[39;49m\u001b[38;5;124;43m10\u001b[39;49m\u001b[38;5;124;43m'\u001b[39;49m\u001b[43m,\u001b[49m\n\u001b[1;32m     39\u001b[0m \u001b[43m                       \u001b[49m\u001b[43mgrid_size\u001b[49m\u001b[38;5;241;43m=\u001b[39;49m\u001b[38;5;241;43m5\u001b[39;49m\u001b[43m,\u001b[49m\u001b[43mmax_round\u001b[49m\u001b[38;5;241;43m=\u001b[39;49m\u001b[38;5;241;43m10\u001b[39;49m\u001b[43m,\u001b[49m\u001b[43mobjective\u001b[49m\u001b[38;5;241;43m=\u001b[39;49m\u001b[38;5;124;43m'\u001b[39;49m\u001b[38;5;124;43mJaccard\u001b[39;49m\u001b[38;5;124;43m'\u001b[39;49m\u001b[43m,\u001b[49m\u001b[43mmaxiter\u001b[49m\u001b[38;5;241;43m=\u001b[39;49m\u001b[38;5;241;43m10\u001b[39;49m\u001b[43m,\u001b[49m\u001b[43mstop_crit\u001b[49m\u001b[38;5;241;43m=\u001b[39;49m\u001b[38;5;241;43m1e-4\u001b[39;49m\u001b[43m,\u001b[49m\n\u001b[1;32m     40\u001b[0m \u001b[43m                                \u001b[49m\u001b[43mmethod\u001b[49m\u001b[38;5;241;43m=\u001b[39;49m\u001b[38;5;124;43m'\u001b[39;49m\u001b[38;5;124;43mSLPAM\u001b[39;49m\u001b[38;5;124;43m'\u001b[39;49m\u001b[43m,\u001b[49m\u001b[43mnorm_type\u001b[49m\u001b[38;5;241;43m=\u001b[39;49m\u001b[38;5;124;43m'\u001b[39;49m\u001b[38;5;124;43ml1\u001b[39;49m\u001b[38;5;124;43m'\u001b[39;49m\u001b[43m,\u001b[49m\u001b[43meps\u001b[49m\u001b[38;5;241;43m=\u001b[39;49m\u001b[38;5;241;43m2.\u001b[39;49m\u001b[43m,\u001b[49m\u001b[43meps_AT_min\u001b[49m\u001b[38;5;241;43m=\u001b[39;49m\u001b[38;5;241;43m0.02\u001b[39;49m\u001b[43m,\u001b[49m\u001b[43mA\u001b[49m\u001b[38;5;241;43m=\u001b[39;49m\u001b[43mnp\u001b[49m\u001b[38;5;241;43m.\u001b[39;49m\u001b[43mones\u001b[49m\u001b[43m(\u001b[49m\u001b[43m(\u001b[49m\u001b[43mr\u001b[49m\u001b[43m,\u001b[49m\u001b[43ml\u001b[49m\u001b[43m)\u001b[49m\u001b[43m)\u001b[49m\u001b[43m)\u001b[49m\n\u001b[1;32m     41\u001b[0m         idim \u001b[38;5;241m+\u001b[39m\u001b[38;5;241m=\u001b[39m \u001b[38;5;241m1\u001b[39m\n\u001b[1;32m     42\u001b[0m         \u001b[38;5;28;01mif\u001b[39;00m idim \u001b[38;5;241m==\u001b[39m\u001b[38;5;241m1\u001b[39m:\n",
      "File \u001b[0;32m~/Documents/GitHub/GGS-DMS/these-reproduce/Untitled Folder/../../python_dms/lib/tools_dms.py:461\u001b[0m, in \u001b[0;36mgolden_section_map\u001b[0;34m(noised_im1, im1, contours_im1, bmax, bmin, lmax, lmin, scale_type, grid_size, max_round, objective, maxiter, stop_crit, method, norm_type, eps, eps_AT_min, A)\u001b[0m\n\u001b[1;32m    459\u001b[0m         out \u001b[38;5;241m=\u001b[39m test\u001b[38;5;241m.\u001b[39mprocess()\n\u001b[1;32m    460\u001b[0m         cont_thres \u001b[38;5;241m=\u001b[39m np\u001b[38;5;241m.\u001b[39mones_like(out[\u001b[38;5;241m0\u001b[39m])\u001b[38;5;241m*\u001b[39m(out[\u001b[38;5;241m0\u001b[39m]\u001b[38;5;241m>\u001b[39m\u001b[38;5;241m0.5\u001b[39m)\n\u001b[0;32m--> 461\u001b[0m         temp[i,j]    \u001b[38;5;241m=\u001b[39m \u001b[43mjaccard\u001b[49m\u001b[43m(\u001b[49m\u001b[43mcont_thres\u001b[49m\u001b[43m,\u001b[49m\u001b[43mcontours_im1\u001b[49m\u001b[43m)\u001b[49m\n\u001b[1;32m    463\u001b[0m tab_Jaccard_out[r]  \u001b[38;5;241m=\u001b[39m temp\n\u001b[1;32m    464\u001b[0m tab_Jaccard_max    \u001b[38;5;241m+\u001b[39m\u001b[38;5;241m=\u001b[39m [np\u001b[38;5;241m.\u001b[39mmax(temp)]\n",
      "File \u001b[0;32m~/Documents/GitHub/GGS-DMS/these-reproduce/Untitled Folder/../../python_dms/lib/tools_dms.py:162\u001b[0m, in \u001b[0;36mjaccard\u001b[0;34m(im1, im2)\u001b[0m\n\u001b[1;32m    159\u001b[0m im2 \u001b[38;5;241m=\u001b[39m np\u001b[38;5;241m.\u001b[39masarray(im2)\u001b[38;5;241m.\u001b[39mastype(np\u001b[38;5;241m.\u001b[39mbool)\n\u001b[1;32m    161\u001b[0m \u001b[38;5;28;01mif\u001b[39;00m im1\u001b[38;5;241m.\u001b[39mshape \u001b[38;5;241m!=\u001b[39m im2\u001b[38;5;241m.\u001b[39mshape:\n\u001b[0;32m--> 162\u001b[0m     \u001b[38;5;28;01mraise\u001b[39;00m \u001b[38;5;167;01mValueError\u001b[39;00m(\u001b[38;5;124m\"\u001b[39m\u001b[38;5;124mShape mismatch: im1 and im2 must have the same shape.\u001b[39m\u001b[38;5;124m\"\u001b[39m)\n\u001b[1;32m    164\u001b[0m intersection \u001b[38;5;241m=\u001b[39m np\u001b[38;5;241m.\u001b[39mlogical_and(im1, im2)\n\u001b[1;32m    166\u001b[0m union \u001b[38;5;241m=\u001b[39m np\u001b[38;5;241m.\u001b[39mlogical_or(im1, im2)\n",
      "\u001b[0;31mValueError\u001b[0m: Shape mismatch: im1 and im2 must have the same shape."
     ]
    }
   ],
   "source": [
    "valid_extensions = ['.jpg', '.jpeg', '.png', '.gif','.mat']  # Add more extensions if needed\n",
    "np.random.seed(0)\n",
    "folder_path= \"../../../BSDS500/data/images/train/\"\n",
    "idim=0\n",
    "for filename in os.listdir(folder_path):\n",
    "    if os.path.splitext(filename)[1].lower() in valid_extensions:\n",
    "        image_path = os.path.join(folder_path, filename)\n",
    "        image_name= os.path.splitext(filename)[0]\n",
    "        x = np.array(Image.open(image_path))/255.\n",
    "        r,l,_ = np.shape(x)\n",
    "        delta= 0.1\n",
    "        z = x+ delta*np.random.normal(0,1,x.shape)\n",
    "            \n",
    "        mat_file_path = \"../../../BSDS500/data/groundTruth/train/\"+image_name+\".mat\"\n",
    "        mat_file = scipy.io.loadmat(mat_file_path)\n",
    "        rows,cols = np.shape(seg)\n",
    "\n",
    "        cont= np.zeros_like(seg)\n",
    "        for v in range(0,4):\n",
    "            seg = mat_file['groundTruth'][0,v][0,0][0]\n",
    "            rows,cols = np.shape(seg)\n",
    "            cont += SegtoCon_DMS(seg)\n",
    "        cont = np.where(cont > 0, 1, 0)\n",
    "        \n",
    "#         plt.figure()\n",
    "#         plt.imshow(x)\n",
    "#         plt.show()\n",
    "#         plt.figure()\n",
    "#         plt.imshow(z)\n",
    "#         plt.show()\n",
    "#         plt.figure()\n",
    "#         plt.imshow(cont,'gray')\n",
    "#         plt.show()\n",
    "#         plt.figure()\n",
    "#         plt.hist(cont.flatten())\n",
    "#         plt.show()\n",
    "#         tab_Jaccard_out,tab_coord_max_Jaccard_out,tab_Jaccard_max,out1,out0= golden_section_map(z,x,cont,bmax=5,bmin=-5,lmax=3,lmin=-6,scale_type='10',\n",
    "#                        grid_size=5,max_round=10,objective='Jaccard',maxiter=10,stop_crit=1e-4,\n",
    "#                                 method='SLPAM',norm_type='l1',eps=2.,eps_AT_min=0.02,A=np.ones((r,l)))\n",
    "        idim += 1\n",
    "        if idim ==1:\n",
    "            break\n",
    "#             \n",
    "\n"
   ]
  },
  {
   "cell_type": "code",
   "execution_count": null,
   "id": "b624f479",
   "metadata": {},
   "outputs": [],
   "source": []
  }
 ],
 "metadata": {
  "kernelspec": {
   "display_name": "Python 3 (ipykernel)",
   "language": "python",
   "name": "python3"
  },
  "language_info": {
   "codemirror_mode": {
    "name": "ipython",
    "version": 3
   },
   "file_extension": ".py",
   "mimetype": "text/x-python",
   "name": "python",
   "nbconvert_exporter": "python",
   "pygments_lexer": "ipython3",
   "version": "3.9.12"
  }
 },
 "nbformat": 4,
 "nbformat_minor": 5
}
