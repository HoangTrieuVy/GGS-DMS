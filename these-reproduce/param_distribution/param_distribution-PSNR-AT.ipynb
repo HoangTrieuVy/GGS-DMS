{
 "cells": [
  {
   "cell_type": "code",
   "execution_count": 2,
   "id": "3f5b2bfe",
   "metadata": {},
   "outputs": [
    {
     "name": "stdout",
     "output_type": "stream",
     "text": [
      "The autoreload extension is already loaded. To reload it, use:\n",
      "  %reload_ext autoreload\n"
     ]
    }
   ],
   "source": [
    "import sys\n",
    "sys.path.insert(0, '../../python_dms/lib/')\n",
    "from tools_dms import *\n",
    "from dms import *\n",
    "from PIL import Image\n",
    "import scipy.io as sio\n",
    "import matplotlib.pyplot as plt\n",
    "import scipy.io\n",
    "import time \n",
    "%load_ext autoreload\n",
    "%autoreload 2"
   ]
  },
  {
   "cell_type": "code",
   "execution_count": null,
   "id": "a1fe732f",
   "metadata": {},
   "outputs": [],
   "source": []
  },
  {
   "cell_type": "code",
   "execution_count": 3,
   "id": "073fd160",
   "metadata": {},
   "outputs": [],
   "source": [
    "import os\n",
    "def SegtoCon_DMS(seg):\n",
    "    rows,cols = np.shape(seg)\n",
    "    cont= np.zeros_like(seg)\n",
    "    y=  np.zeros((rows,cols,2))\n",
    "    y[:, :, 0] = np.concatenate((seg[:, 1:] - seg[:, 0:-1], np.zeros((rows, 1))),axis=1) / 2.\n",
    "    y[:, :, 1] = np.concatenate((seg[1:, :] - seg[0:-1, :], np.zeros((1, cols))),axis=0) / 2.\n",
    "    \n",
    "    for i in range(rows):\n",
    "        for j in range(cols):\n",
    "            if np.abs(y[i,j,0]) > 0 or np.abs(y[i,j,1])>0:\n",
    "                cont[i,j]=1\n",
    "#                 im[i,j,:]=0\n",
    "    return cont\n",
    "\n",
    "def SegtoCon_DMS(seg):\n",
    "    rows,cols = np.shape(seg)\n",
    "    cont= np.zeros_like(seg)\n",
    "    y=  np.zeros((rows,cols,2))\n",
    "    y[:, :, 0] = np.concatenate((seg[:, 1:] - seg[:, 0:-1], np.zeros((rows, 1))),axis=1) / 2.\n",
    "    y[:, :, 1] = np.concatenate((seg[1:, :] - seg[0:-1, :], np.zeros((1, cols))),axis=0) / 2.\n",
    "    \n",
    "    for i in range(rows):\n",
    "        for j in range(cols):\n",
    "            if np.abs(y[i,j,0]) > 0 or np.abs(y[i,j,1])>0:\n",
    "                cont[i,j]=1\n",
    "#                 im[i,j,:]=0\n",
    "    return cont"
   ]
  },
  {
   "cell_type": "code",
   "execution_count": null,
   "id": "7fec4703",
   "metadata": {
    "scrolled": false
   },
   "outputs": [
    {
     "name": "stdout",
     "output_type": "stream",
     "text": [
      "Objective: PSNR\n",
      "0.1\n",
      "0.06666666666666667\n",
      "0.044444444444444446\n",
      "0.02962962962962963\n",
      "0.1\n",
      "0.06666666666666667\n",
      "0.044444444444444446\n",
      "0.02962962962962963\n"
     ]
    }
   ],
   "source": [
    "valid_extensions = ['.jpg', '.jpeg', '.png', '.gif','.mat']  # Add more extensions if needed\n",
    "np.random.seed(0)\n",
    "# folder_path= \"../../../BSDS500/data/images/train/\"\n",
    "folder_path= \"../../../../../Documents/dataset/BSDS500/data/images/train/\"\n",
    "\n",
    "idim=0\n",
    "for filename in os.listdir(folder_path):\n",
    "    if os.path.splitext(filename)[1].lower() in valid_extensions:\n",
    "        image_path = os.path.join(folder_path, filename)\n",
    "        image_name= os.path.splitext(filename)[0]\n",
    "        x = np.array(Image.open(image_path))/255.\n",
    "        r,l,_ = np.shape(x)\n",
    "        delta= 0.05\n",
    "        z = x+ delta*np.random.normal(0,1,x.shape)\n",
    "            \n",
    "        mat_file_path = \"../../../../../Documents/dataset/BSDS500/data/groundTruth/train/\"+image_name+\".mat\"\n",
    "        mat_file = scipy.io.loadmat(mat_file_path)\n",
    "\n",
    "        cont= np.zeros((r,l))\n",
    "        for v in range(0,4):\n",
    "            seg = mat_file['groundTruth'][0,v][0,0][0]\n",
    "            cont += SegtoCon_DMS(seg)\n",
    "        cont = np.where(cont > 0, 1, 0)\n",
    "        \n",
    "#         plt.figure()\n",
    "#         plt.imshow(x)\n",
    "#         plt.show()\n",
    "#         plt.figure()\n",
    "#         plt.imshow(z)\n",
    "#         plt.show()\n",
    "#         plt.figure()\n",
    "#         plt.imshow(cont,'gray')\n",
    "#         plt.show()\n",
    "#         plt.figure()\n",
    "#         plt.hist(cont.flatten())\n",
    "#         plt.show()\n",
    "        tab_PSNR_out,tab_coord_max_PSNR_out,tab_PSNR_max,out1,out0= golden_section_map(z,x,cont,bmax=3,bmin=-1,lmax=2,lmin=-3,scale_type='10',\n",
    "                       grid_size=4,max_round=4,objective='PSNR',maxiter=50,stop_crit=1e-4,\n",
    "                                method='SLPAM-eps-descent',norm_type='l1',eps=.1,eps_AT_min=0.02,A=np.ones((r,l)))\n",
    "        scipy.io.savemat(\"../../dataset/BSDS500/data/param_dist_PSNR_AT/train/\"+image_name+\".mat\",dict(tab_Jaccard_out=tab_Jaccard_out,tab_coord_max_Jaccard_out=tab_coord_max_Jaccard_out,tab_Jaccard_max=tab_Jaccard_max,out1=out1,out0=out0))        \n",
    "        cont_thres = np.ones_like(out0)*(out0>0.5)\n",
    "#         \n",
    "        cont_thres = np.clip(cont_thres[:,:,0]+cont_thres[:,:,1],0,1)\n",
    "        plt.figure()\n",
    "        plt.imshow(out1)\n",
    "        plt.show()\n",
    "        plt.figure()\n",
    "        plt.imshow(cont_thres)\n",
    "        plt.show()\n",
    "        idim += 1\n",
    "#         if idim ==1:\n",
    "#             break\n",
    "#             \n",
    "\n"
   ]
  },
  {
   "cell_type": "code",
   "execution_count": null,
   "id": "b624f479",
   "metadata": {},
   "outputs": [],
   "source": [
    "cont_thres = np.ones_like(out0)*(out0>0.2)\n",
    "# cont_thres = out0\n",
    "\n",
    "cont_thres = np.clip(cont_thres[:,:,0]+cont_thres[:,:,1],0,1)\n",
    "plt.figure()\n",
    "plt.imshow(cont_thres,cmap='gray')\n",
    "plt.show()"
   ]
  },
  {
   "cell_type": "code",
   "execution_count": 38,
   "id": "f930106b",
   "metadata": {},
   "outputs": [
    {
     "data": {
      "text/plain": [
       "array([[0.        , 0.        , 0.        , ..., 0.        , 0.        ,\n",
       "        0.        ],\n",
       "       [0.        , 0.        , 0.        , ..., 0.        , 0.        ,\n",
       "        0.        ],\n",
       "       [0.        , 0.        , 0.        , ..., 0.        , 0.        ,\n",
       "        0.        ],\n",
       "       ...,\n",
       "       [0.        , 0.        , 0.        , ..., 0.        , 0.        ,\n",
       "        0.        ],\n",
       "       [0.        , 0.        , 0.        , ..., 0.        , 0.        ,\n",
       "        0.50171601],\n",
       "       [0.        , 0.        , 0.        , ..., 0.        , 0.40681355,\n",
       "        0.        ]])"
      ]
     },
     "execution_count": 38,
     "metadata": {},
     "output_type": "execute_result"
    }
   ],
   "source": [
    "cont_thres"
   ]
  },
  {
   "cell_type": "code",
   "execution_count": 39,
   "id": "3658d0b8",
   "metadata": {},
   "outputs": [
    {
     "data": {
      "image/png": "[encoded data removed]",
      "text/plain": [
       "<Figure size 640x480 with 1 Axes>"
      ]
     },
     "metadata": {},
     "output_type": "display_data"
    }
   ],
   "source": [
    "plt.figure()\n",
    "plt.hist(cont_thres.flatten())\n",
    "plt.show()"
   ]
  },
  {
   "cell_type": "code",
   "execution_count": null,
   "id": "f3014b2a",
   "metadata": {},
   "outputs": [],
   "source": []
  }
 ],
 "metadata": {
  "kernelspec": {
   "display_name": "Python 3 (ipykernel)",
   "language": "python",
   "name": "python3"
  },
  "language_info": {
   "codemirror_mode": {
    "name": "ipython",
    "version": 3
   },
   "file_extension": ".py",
   "mimetype": "text/x-python",
   "name": "python",
   "nbconvert_exporter": "python",
   "pygments_lexer": "ipython3",
   "version": "3.9.12"
  }
 },
 "nbformat": 4,
 "nbformat_minor": 5
}
